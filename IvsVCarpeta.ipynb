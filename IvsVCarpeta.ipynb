{
  "metadata": {
    "kernelspec": {
      "name": "python",
      "display_name": "Python (Pyodide)",
      "language": "python"
    },
    "language_info": {
      "codemirror_mode": {
        "name": "python",
        "version": 3
      },
      "file_extension": ".py",
      "mimetype": "text/x-python",
      "name": "python",
      "nbconvert_exporter": "python",
      "pygments_lexer": "ipython3",
      "version": "3.8"
    }
  },
  "nbformat_minor": 5,
  "nbformat": 4,
  "cells": [
    {
      "id": "876e7713-ee74-4795-b4e5-2a537b7be441",
      "cell_type": "code",
      "source": "import pandas as pd\nimport matplotlib.pyplot as plt\nimport numpy as np\nfrom scipy.stats import linregress\nimport os\nfrom glob import glob\n\n# === CONFIGURACIÓN ===\ncarpeta_entrada = r\"10925\"  # Cambia por tu ruta\ncarpeta_salida = os.path.join(carpeta_entrada, \"graficas\")\n\n# Crear carpeta de salida si no existe\nos.makedirs(carpeta_salida, exist_ok=True)\n\n# Listar todos los .txt\narchivos = glob(os.path.join(carpeta_entrada, \"*.txt\"))\n\nprint(f\"Se encontraron {len(archivos)} archivos.\")\n\n# Lista para guardar resultados\nresultados = []\n\n# === PROCESAR CADA ARCHIVO ===\nfor archivo in archivos:\n    try:\n        # Leer archivo (sin headers, 9 columnas, tabulado)\n        df = pd.read_csv(archivo, sep=\"\\t\", header=None)\n\n        # Extraer columnas 2 y 4\n        x = pd.to_numeric(df.iloc[:, 3], errors='coerce')\n        y = pd.to_numeric(df.iloc[:, 1], errors='coerce')\n\n        # Eliminar NaN\n        mask = ~np.isnan(x) & ~np.isnan(y)\n        x = x[mask].values\n        y = y[mask].values\n\n        if len(x) < 3:\n            print(f\"Archivo {archivo} omitido (datos insuficientes).\")\n            continue\n\n        # Regresión lineal\n        res = linregress(x, y)\n        m = res.slope\n        b = res.intercept\n        SE_m = res.stderr\n        SE_b = res.intercept_stderr\n        r2 = res.rvalue**2\n\n        # Guardar resultados en lista\n        nombre_base = os.path.splitext(os.path.basename(archivo))[0]\n        resultados.append({\n            \"archivo\": nombre_base,\n            \"pendiente\": m,\n            \"error_pendiente\": SE_m,\n            \"intercepto\": b,\n            \"error_intercepto\": SE_b,\n            \"R2\": r2\n        })\n\n        # Predicción para la recta\n        x_pred = np.linspace(x.min(), x.max(), 100)\n        y_pred = m * x_pred + b\n\n        # === GRÁFICA ===\n        plt.figure(figsize=(8, 5))\n        plt.scatter(x, y, color='dodgerblue', alpha=0.7, label='Datos')\n        plt.plot(x_pred, y_pred, color='red', linewidth=2, label='Regresión lineal')\n\n        # Texto con ecuación, errores y R²\n        ecuacion = (f\"y = {m:.4f}x + {b:.4f}\\n\"\n                    f\"±({SE_m:.4f}, {SE_b:.4f})\\n\"\n                    f\"R² = {r2:.4f}\")\n        plt.text(0.02, 0.95, ecuacion, transform=plt.gca().transAxes,\n                 fontsize=10, color='red', verticalalignment='top',\n                 bbox=dict(facecolor='white', alpha=0.7))\n\n        plt.xlabel('V (V)')\n        plt.ylabel('I (A)')\n        plt.title(f'Regresión Lineal: {nombre_base}')\n        plt.legend(loc='lower right')\n        plt.grid(True)\n\n        # Guardar gráfica\n        salida = os.path.join(carpeta_salida, f\"{nombre_base}_regresion.png\")\n        plt.savefig(salida, dpi=300, bbox_inches='tight')\n        plt.close()\n\n        print(f\"✅ Gráfica guardada: {salida}\")\n\n    except Exception as e:\n        print(f\"❌ Error procesando {archivo}: {e}\")\n\n# === GUARDAR RESUMEN EN CSV ===\ndf_resultados = pd.DataFrame(resultados)\ncsv_resumen = os.path.join(carpeta_salida, \"resultados_regresiones.csv\")\ndf_resultados.to_csv(csv_resumen, index=False)\n\nprint(f\"\\n📄 Archivo resumen guardado en: {csv_resumen}\")\nprint(df_resultados.head())",
      "metadata": {
        "trusted": true
      },
      "outputs": [
        {
          "name": "stdout",
          "output_type": "stream",
          "text": "Se encontraron 29 archivos.\n✅ Gráfica guardada: 10925/graficas/IvsV_PY_Vg-10mV_010925_Vbias10mV_regresion.png\n✅ Gráfica guardada: 10925/graficas/IvsV_PY_Vg-1V_010925_Vbias10mV_regresion.png\n✅ Gráfica guardada: 10925/graficas/IvsV_PY_Vg-2V_010925_Vbias10mV_regresion.png\n✅ Gráfica guardada: 10925/graficas/IvsV_PY_Vg-4V_010925_Vbias10mV_regresion.png\n✅ Gráfica guardada: 10925/graficas/IvsV_PY_Vg-5V_010925_Vbias10mV_regresion.png\n✅ Gráfica guardada: 10925/graficas/IvsV_PY_Vg-5V_010925_Vbias10mV_2_regresion.png\n✅ Gráfica guardada: 10925/graficas/IvsV_PY_Vg-5mV_010925_Vbias10mV_regresion.png\n✅ Gráfica guardada: 10925/graficas/IvsV_PY_Vg-6mV_010925_Vbias10mV_regresion.png\n✅ Gráfica guardada: 10925/graficas/IvsV_PY_Vg-7mV_010925_Vbias10mV_regresion.png\n✅ Gráfica guardada: 10925/graficas/IvsV_PY_Vg-8mV_010925_Vbias10mV_regresion.png\n✅ Gráfica guardada: 10925/graficas/IvsV_PY_Vg-9mV_010925_Vbias10mV_regresion.png\n✅ Gráfica guardada: 10925/graficas/IvsV_PY_Vg0V_010925_Vbias10mV_regresion.png\n✅ Gráfica guardada: 10925/graficas/IvsV_PY_Vg0_010925_Vbias0p1mV_regresion.png\n✅ Gráfica guardada: 10925/graficas/IvsV_PY_Vg0_010925_Vbias10uV_regresion.png\n✅ Gráfica guardada: 10925/graficas/IvsV_PY_Vg0_010925_Vbias1mV_regresion.png\n✅ Gráfica guardada: 10925/graficas/IvsV_PY_Vg0_010925_Vbias1mV_2_regresion.png\n✅ Gráfica guardada: 10925/graficas/IvsV_PY_Vg0_010925_Vbias1mV_3_regresion.png\n✅ Gráfica guardada: 10925/graficas/IvsV_PY_Vg0_010925_Vbias1mV_4_regresion.png\n✅ Gráfica guardada: 10925/graficas/IvsV_PY_Vg10mV_010925_Vbias10mV_regresion.png\n✅ Gráfica guardada: 10925/graficas/IvsV_PY_Vg1V_010925_Vbias10mV_regresion.png\n✅ Gráfica guardada: 10925/graficas/IvsV_PY_Vg2V_010925_Vbias10mV_regresion.png\n✅ Gráfica guardada: 10925/graficas/IvsV_PY_Vg3V_010925_Vbias10mV_regresion.png\n✅ Gráfica guardada: 10925/graficas/IvsV_PY_Vg4V_010925_Vbias10mV_regresion.png\n✅ Gráfica guardada: 10925/graficas/IvsV_PY_Vg5V_010925_Vbias10mV_regresion.png\n✅ Gráfica guardada: 10925/graficas/IvsV_PY_Vg5mV_010925_Vbias10mV_regresion.png\n✅ Gráfica guardada: 10925/graficas/IvsV_PY_Vg6mV_010925_Vbias10mV_regresion.png\n✅ Gráfica guardada: 10925/graficas/IvsV_PY_Vg7mV_010925_Vbias10mV_regresion.png\n✅ Gráfica guardada: 10925/graficas/IvsV_PY_Vg8mV_010925_Vbias10mV_regresion.png\n✅ Gráfica guardada: 10925/graficas/IvsV_PY_Vg9mV_010925_Vbias10mV_regresion.png\n\n📄 Archivo resumen guardado en: 10925/graficas/resultados_regresiones.csv\n                            archivo  pendiente  error_pendiente    intercepto  \\\n0  IvsV_PY_Vg-10mV_010925_Vbias10mV   0.000768     1.683509e-07  6.009609e-09   \n1    IvsV_PY_Vg-1V_010925_Vbias10mV   0.000760     1.531549e-07  1.981289e-08   \n2    IvsV_PY_Vg-2V_010925_Vbias10mV   0.000761     1.695858e-07  3.137805e-07   \n3    IvsV_PY_Vg-4V_010925_Vbias10mV   0.000754     8.827389e-07  5.457464e-06   \n4    IvsV_PY_Vg-5V_010925_Vbias10mV   0.000798     6.180858e-06  1.492285e-05   \n\n   error_intercepto        R2  \n0      9.767043e-10  0.999990  \n1      8.885385e-10  0.999992  \n2      9.838605e-10  0.999990  \n3      5.121019e-09  0.999729  \n4      3.586152e-08  0.988258  \n"
        }
      ],
      "execution_count": 2
    }
  ]
}