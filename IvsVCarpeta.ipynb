{
  "metadata": {
    "kernelspec": {
      "name": "python",
      "display_name": "Python (Pyodide)",
      "language": "python"
    },
    "language_info": {
      "codemirror_mode": {
        "name": "python",
        "version": 3
      },
      "file_extension": ".py",
      "mimetype": "text/x-python",
      "name": "python",
      "nbconvert_exporter": "python",
      "pygments_lexer": "ipython3",
      "version": "3.8"
    }
  },
  "nbformat_minor": 5,
  "nbformat": 4,
  "cells": [
    {
      "id": "876e7713-ee74-4795-b4e5-2a537b7be441",
      "cell_type": "code",
      "source": "import pandas as pd\nimport matplotlib.pyplot as plt\nimport numpy as np\nfrom scipy.stats import linregress\nimport os\nfrom glob import glob\n\n# === CONFIGURACIÓN ===\ncarpeta_entrada = r\"IvsV_Pablo_290825\"  # Cambia por tu ruta\ncarpeta_salida = os.path.join(carpeta_entrada, \"graficas\")\n\n# Crear carpeta de salida si no existe\nos.makedirs(carpeta_salida, exist_ok=True)\n\n# Listar todos los .txt\narchivos = glob(os.path.join(carpeta_entrada, \"*.txt\"))\n\nprint(f\"Se encontraron {len(archivos)} archivos.\")\n\n# Lista para guardar resultados\nresultados = []\n\n# === PROCESAR CADA ARCHIVO ===\nfor archivo in archivos:\n    try:\n        # Leer archivo (sin headers, 9 columnas, tabulado)\n        df = pd.read_csv(archivo, sep=\"\\t\", header=None)\n\n        # Extraer columnas 2 y 4\n        x = pd.to_numeric(df.iloc[:, 1], errors='coerce')\n        y = pd.to_numeric(df.iloc[:, 3], errors='coerce')\n\n        # Eliminar NaN\n        mask = ~np.isnan(x) & ~np.isnan(y)\n        x = x[mask].values\n        y = y[mask].values\n\n        if len(x) < 3:\n            print(f\"Archivo {archivo} omitido (datos insuficientes).\")\n            continue\n\n        # Regresión lineal\n        res = linregress(x, y)\n        m = res.slope\n        b = res.intercept\n        SE_m = res.stderr\n        SE_b = res.intercept_stderr\n        r2 = res.rvalue**2\n\n        # Guardar resultados en lista\n        nombre_base = os.path.splitext(os.path.basename(archivo))[0]\n        resultados.append({\n            \"archivo\": nombre_base,\n            \"pendiente\": m,\n            \"error_pendiente\": SE_m,\n            \"intercepto\": b,\n            \"error_intercepto\": SE_b,\n            \"R2\": r2\n        })\n\n        # Predicción para la recta\n        x_pred = np.linspace(x.min(), x.max(), 100)\n        y_pred = m * x_pred + b\n\n        # === GRÁFICA ===\n        plt.figure(figsize=(8, 5))\n        plt.scatter(x, y, color='dodgerblue', alpha=0.7, label='Datos')\n        plt.plot(x_pred, y_pred, color='red', linewidth=2, label='Regresión lineal')\n\n        # Texto con ecuación, errores y R²\n        ecuacion = (f\"y = {m:.4f}x + {b:.4f}\\n\"\n                    f\"±({SE_m:.4f}, {SE_b:.4f})\\n\"\n                    f\"R² = {r2:.4f}\")\n        plt.text(0.02, 0.95, ecuacion, transform=plt.gca().transAxes,\n                 fontsize=10, color='red', verticalalignment='top',\n                 bbox=dict(facecolor='white', alpha=0.7))\n\n        plt.xlabel('Columna 2')\n        plt.ylabel('Columna 4')\n        plt.title(f'Regresión Lineal: {nombre_base}')\n        plt.legend(loc='lower right')\n        plt.grid(True)\n\n        # Guardar gráfica\n        salida = os.path.join(carpeta_salida, f\"{nombre_base}_regresion.png\")\n        plt.savefig(salida, dpi=300, bbox_inches='tight')\n        plt.close()\n\n        print(f\"✅ Gráfica guardada: {salida}\")\n\n    except Exception as e:\n        print(f\"❌ Error procesando {archivo}: {e}\")\n\n# === GUARDAR RESUMEN EN CSV ===\ndf_resultados = pd.DataFrame(resultados)\ncsv_resumen = os.path.join(carpeta_salida, \"resultados_regresiones.csv\")\ndf_resultados.to_csv(csv_resumen, index=False)\n\nprint(f\"\\n📄 Archivo resumen guardado en: {csv_resumen}\")\nprint(df_resultados.head())",
      "metadata": {
        "trusted": true
      },
      "outputs": [
        {
          "name": "stderr",
          "output_type": "stream",
          "text": "Matplotlib is building the font cache; this may take a moment.\n"
        },
        {
          "name": "stdout",
          "output_type": "stream",
          "text": "Se encontraron 23 archivos.\n✅ Gráfica guardada: IvsV_Pablo_290825/graficas/IvsV_Pablo_2probes_Vgate-1p0V_Vbias0p1mV_regresion.png\n✅ Gráfica guardada: IvsV_Pablo_290825/graficas/IvsV_Pablo_2probes_Vgate-2p0V_Vbias0p1mV_regresion.png\n✅ Gráfica guardada: IvsV_Pablo_290825/graficas/IvsV_Pablo_2probes_Vgate-3p0V_Vbias0p1mV_regresion.png\n✅ Gráfica guardada: IvsV_Pablo_290825/graficas/IvsV_Pablo_2probes_Vgate0V_Vbias0p1mV_TEST_BLANK_regresion.png\n✅ Gráfica guardada: IvsV_Pablo_290825/graficas/IvsV_Pablo_2probes_Vgate0_Vbias0p1mV_regresion.png\n✅ Gráfica guardada: IvsV_Pablo_290825/graficas/IvsV_Pablo_2probes_Vgate0_Vbias0p2mV_regresion.png\n✅ Gráfica guardada: IvsV_Pablo_290825/graficas/IvsV_Pablo_2probes_Vgate0_Vbias0p3mV_regresion.png\n✅ Gráfica guardada: IvsV_Pablo_290825/graficas/IvsV_Pablo_2probes_Vgate0_Vbias0p4mV_regresion.png\n✅ Gráfica guardada: IvsV_Pablo_290825/graficas/IvsV_Pablo_2probes_Vgate0_Vbias0p5mV_regresion.png\n✅ Gráfica guardada: IvsV_Pablo_290825/graficas/IvsV_Pablo_2probes_Vgate0_Vbias0p6mV_regresion.png\n✅ Gráfica guardada: IvsV_Pablo_290825/graficas/IvsV_Pablo_2probes_Vgate0_Vbias0p7mV_regresion.png\n✅ Gráfica guardada: IvsV_Pablo_290825/graficas/IvsV_Pablo_2probes_Vgate0_Vbias0p8mV_regresion.png\n✅ Gráfica guardada: IvsV_Pablo_290825/graficas/IvsV_Pablo_2probes_Vgate0_Vbias0p9mV_regresion.png\n✅ Gráfica guardada: IvsV_Pablo_290825/graficas/IvsV_Pablo_2probes_Vgate0_Vbias1mV_regresion.png\n✅ Gráfica guardada: IvsV_Pablo_290825/graficas/IvsV_Pablo_2probes_Vgate0_Vbias1p5mV_regresion.png\nArchivo IvsV_Pablo_290825/IvsV_Pablo_2probes_Vgate0_Vbias2p0mV.txt omitido (datos insuficientes).\n✅ Gráfica guardada: IvsV_Pablo_290825/graficas/IvsV_Pablo_2probes_Vgate1p0V_Vbias0p1mV_regresion.png\n✅ Gráfica guardada: IvsV_Pablo_290825/graficas/IvsV_Pablo_2probes_Vgate2p0V_Vbias0p1mV_regresion.png\n✅ Gráfica guardada: IvsV_Pablo_290825/graficas/IvsV_Pablo_2probes_Vgate3p0V_Vbias0p1mV_regresion.png\n✅ Gráfica guardada: IvsV_Pablo_290825/graficas/IvsV_Pablo_2probes_Vgate43p4mV_Vbias0p1mV_regresion.png\n✅ Gráfica guardada: IvsV_Pablo_290825/graficas/IvsV_Pablo_2probes_Vgate4p0V_Vbias0p1mV_regresion.png\n✅ Gráfica guardada: IvsV_Pablo_290825/graficas/IvsV_Pablo_2probes_Vgate55p3mV_Vbias0p1mV_regresion.png\n✅ Gráfica guardada: IvsV_Pablo_290825/graficas/IvsV_Pablo_2probes_Vgate5p0V_Vbias0p1mV_regresion.png\n\n📄 Archivo resumen guardado en: IvsV_Pablo_290825/graficas/resultados_regresiones.csv\n                                            archivo    pendiente  \\\n0          IvsV_Pablo_2probes_Vgate-1p0V_Vbias0p1mV  4786.918113   \n1          IvsV_Pablo_2probes_Vgate-2p0V_Vbias0p1mV  4944.665309   \n2          IvsV_Pablo_2probes_Vgate-3p0V_Vbias0p1mV  4863.428546   \n3  IvsV_Pablo_2probes_Vgate0V_Vbias0p1mV_TEST_BLANK  5421.215183   \n4              IvsV_Pablo_2probes_Vgate0_Vbias0p1mV   644.978729   \n\n   error_pendiente  intercepto  error_intercepto        R2  \n0        28.719173   -0.000043      1.779809e-07  0.998275  \n1        28.959374   -0.000044      1.729845e-07  0.998356  \n2        23.724081   -0.000043      1.445156e-07  0.998859  \n3        34.790755    0.000008      4.033764e-07  0.998027  \n4         1.127051    0.000006      9.620222e-08  0.999698  \n"
        }
      ],
      "execution_count": 1
    }
  ]
}